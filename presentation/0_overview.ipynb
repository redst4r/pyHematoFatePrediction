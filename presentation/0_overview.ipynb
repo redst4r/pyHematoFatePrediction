{
 "cells": [
  {
   "cell_type": "markdown",
   "metadata": {
    "slideshow": {
     "slide_type": "slide"
    }
   },
   "source": [
    "# KAIST Workshop"
   ]
  },
  {
   "cell_type": "markdown",
   "metadata": {
    "slideshow": {
     "slide_type": "slide"
    }
   },
   "source": [
    "# Overview\n",
    "\n",
    "- **Bioimage Informatics**\n",
    "    - Background correction: [Notebook](1_background_correction.ipynb)\n",
    "    - Segmentation: [Notebook](2_segmentation.ipynb)\n",
    "    \n",
    "    \n",
    "- **Interlude: Deep learning**\n",
    "    - Logistic regression: [Notebook](3_logistic_regression.ipynb) \n",
    "    - Multilayer perceptron: [Notebook](4_MLP.ipynb)\n",
    "    - Introspection\n",
    "  \n",
    "  \n",
    " \n",
    "- **Cell fate prediction in hematopoietic stem cells**\n",
    "    - [Notebook](5_HematoCNN.ipynb) \n"
   ]
  },
  {
   "cell_type": "markdown",
   "metadata": {
    "slideshow": {
     "slide_type": "slide"
    }
   },
   "source": [
    "# Anaconda/Miniconda\n",
    "https://conda.io/miniconda.html\n",
    "\n",
    "\n",
    "- download, run installer and do\n",
    "\n",
    "        source install_location/miniconda3/bin/activate\n",
    "    \n",
    "    \n",
    "\n",
    "- create a virtual environment\n",
    "\n",
    "        conda create --name py36_keras python=3.6\n",
    "\n",
    "- activate it via \n",
    "\n",
    "        source activate py36_keras (linux/mac specific)\n",
    "    \n",
    "\n",
    "- install a few packages\n",
    "\n",
    "        conda install nomkl pandas matplotlib bokeh holoviews numpy toolz scikit-image scikit-learn h5py opencv jupyter beautifulsoup4\n",
    "        \n",
    "        pip install -e git+https://github.com/redst4r/movieTools.git#egg=movieTools-0.1"
   ]
  },
  {
   "cell_type": "markdown",
   "metadata": {
    "slideshow": {
     "slide_type": "slide"
    }
   },
   "source": [
    "## Tensorflow/Keras\n",
    "a little bit tricky to install\n",
    "\n",
    "- [tensorflow howto](https://www.tensorflow.org/install/)\n",
    "\n",
    "    `pip install --ignore-installed --upgrade https://storage.googleapis.com/tensorflow/linux/cpu/tensorflow-1.3.0-cp36-cp36m-linux_x86_64.whl`\n",
    "\n",
    "- [keras](https://keras.io/#installation)\n",
    "\n",
    "    `pip install keras`"
   ]
  },
  {
   "cell_type": "code",
   "execution_count": null,
   "metadata": {
    "collapsed": true
   },
   "outputs": [],
   "source": []
  }
 ],
 "metadata": {
  "celltoolbar": "Slideshow",
  "kernelspec": {
   "display_name": "Python 3",
   "language": "python",
   "name": "python3"
  },
  "language_info": {
   "codemirror_mode": {
    "name": "ipython",
    "version": 3
   },
   "file_extension": ".py",
   "mimetype": "text/x-python",
   "name": "python",
   "nbconvert_exporter": "python",
   "pygments_lexer": "ipython3",
   "version": "3.6.2"
  },
  "toc": {
   "toc_cell": false,
   "toc_number_sections": true,
   "toc_threshold": "4",
   "toc_window_display": false
  }
 },
 "nbformat": 4,
 "nbformat_minor": 2
}
