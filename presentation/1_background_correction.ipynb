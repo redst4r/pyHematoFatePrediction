{
 "cells": [
  {
   "cell_type": "code",
   "execution_count": null,
   "metadata": {
    "collapsed": true
   },
   "outputs": [],
   "source": [
    "import matplotlib.pyplot as plt\n",
    "import numpy as np\n",
    "# %matplotlib inline\n",
    "import holoviews as hv\n",
    "hv.extension('bokeh')\n",
    "import bokeh\n",
    "from bokeh.io import output_notebook, show\n",
    "import bokeh.plotting as bp # figure, show, output_file\n",
    "from talk_plottingutils import *\n",
    "output_notebook()"
   ]
  },
  {
   "cell_type": "markdown",
   "metadata": {},
   "source": [
    "# Cell fate prediction in hematopoietic stem cells\n",
    "[Prospective identification of hematopoietic lineage choice by deep learning](http://www.nature.com/nmeth/journal/v14/n4/full/nmeth.4182.html)    \n",
    "Felix Buggenthin, Florian Buettner, Philipp S Hoppe, Max Endele, Manuel Kroiss, Michael Strasser, Michael Schwarzfischer, Dirk Loeffler, Konstantinos D Kokkaliaris, Oliver Hilsenbeck, Timm Schroeder, Fabian J Theis, Carsten Marr<p>\n",
    "Nature Methods 14, 403–406 (2017)\n",
    "\n",
    "\n",
    "[Paper](http://www.nature.com/nmeth/journal/v14/n4/full/nmeth.4182.html), [Code](https://github.com/QSCD/HematoFatePrediction) \n",
    "\n",
    "## Quick recap:\n",
    "- murine blood stem cells differentiate into distinct cell types\n",
    "<!--![Orkin1](orkin1.png)-->\n",
    "![Orkin2](images/orkin2.png)\n",
    "\n",
    "- continuous in vitro imaging of this process over several days\n",
    "- can we use cell morphology to predict in advance what kind of type a cell will differentiate into\n",
    "\n",
    "# Raw data\n",
    "- brightfield images\n",
    "- cell tracking\n",
    "\n",
    "<img src=\"images/movie_positions.png\" alt=\"Position layout\" style=\"width: 400px;\"/>\n",
    "<img src=\"images/single_position.png\" alt=\"single position\" style=\"width: 400px;\"/>"
   ]
  },
  {
   "cell_type": "markdown",
   "metadata": {},
   "source": [
    "# Handling the data\n",
    "a convenient wrapper around the time-lapse data:\n",
    "\n",
    "    git clone https://github.com/redst4r/movieTools.git"
   ]
  },
  {
   "cell_type": "code",
   "execution_count": null,
   "metadata": {
    "collapsed": true
   },
   "outputs": [],
   "source": [
    "import config\n",
    "import imageNormalizer\n",
    "from movie import Movie\n",
    "config.TTTDIR = '/home/michi/pythonProjects/deepLearning/Hemato_korea/data/'\n",
    "movie = Movie('experiment3', verbose=False)  # 140206\n",
    "movie.get_all_positions()\n",
    "len(movie.get_all_images())"
   ]
  },
  {
   "cell_type": "markdown",
   "metadata": {},
   "source": [
    "lets look at a single raw image from position 54, timepoint 3430"
   ]
  },
  {
   "cell_type": "code",
   "execution_count": null,
   "metadata": {
    "collapsed": true
   },
   "outputs": [],
   "source": [
    "I = movie.loadimage(position=54, timepoint=3430, WL='w00', extension='png', normalizer=imageNormalizer.NoNormalizer())\n",
    "plot_image_bokeh(I);"
   ]
  },
  {
   "cell_type": "code",
   "execution_count": null,
   "metadata": {
    "collapsed": true
   },
   "outputs": [],
   "source": [
    "# a couple of consecutive frames\n",
    "tt = range(3430,3450)\n",
    "img_list = [movie.loadimage(position=54, timepoint=i, WL='w00', extension='png', normalizer=imageNormalizer.NoNormalizer())[:600:2,:600:2]\n",
    "        for i in tt]"
   ]
  },
  {
   "cell_type": "code",
   "execution_count": null,
   "metadata": {
    "collapsed": true
   },
   "outputs": [],
   "source": [
    "%%output size=150\n",
    "%%opts Image style(cmap='Greys_r')\n",
    "hv_plot_stack(img_list, tt)"
   ]
  },
  {
   "cell_type": "markdown",
   "metadata": {},
   "source": [
    "**Observations**\n",
    "- uneven illumination\n",
    "- borders of the cover-slip\n",
    "- dirt"
   ]
  },
  {
   "cell_type": "code",
   "execution_count": null,
   "metadata": {
    "code_folding": [],
    "collapsed": true
   },
   "outputs": [],
   "source": [
    "def image_iterator(movie, position):\n",
    "    \"returns a generator over all images of that position\"\n",
    "    timepoints = [time for (pos, time, wl), fname in movie.get_all_images().items() if pos==position]\n",
    "    \n",
    "    timepoints = np.sort(timepoints)\n",
    "    for t in timepoints:\n",
    "        yield movie.loadimage(position, timepoint=t, WL='w00', extension='png', normalizer=imageNormalizer.NoNormalizer())      "
   ]
  },
  {
   "cell_type": "markdown",
   "metadata": {},
   "source": [
    "### mean intensity over time"
   ]
  },
  {
   "cell_type": "code",
   "execution_count": null,
   "metadata": {
    "collapsed": true
   },
   "outputs": [],
   "source": [
    "# might take 20 sec or so\n",
    "average_intensity_over_time = [np.mean(I) for I in image_iterator(movie, position=54)]"
   ]
  },
  {
   "cell_type": "code",
   "execution_count": null,
   "metadata": {
    "collapsed": true
   },
   "outputs": [],
   "source": [
    "plt.plot(average_intensity_over_time)\n",
    "plt.xlabel('Time')\n",
    "plt.ylabel('avg. intensity')\n",
    "plt.show()"
   ]
  },
  {
   "cell_type": "markdown",
   "metadata": {},
   "source": [
    "### mean image"
   ]
  },
  {
   "cell_type": "code",
   "execution_count": null,
   "metadata": {
    "collapsed": true
   },
   "outputs": [],
   "source": [
    "import functools\n",
    "import toolz"
   ]
  },
  {
   "cell_type": "code",
   "execution_count": null,
   "metadata": {
    "collapsed": true
   },
   "outputs": [],
   "source": [
    "Q = toolz.take(100, image_iterator(movie, position=54))  # just average across 100 images\n",
    "# Q = image_iterator(movie, position=54)  # careful this loads alot of data into RAM\n",
    "meanI= np.stack(Q).mean(0)"
   ]
  },
  {
   "cell_type": "code",
   "execution_count": null,
   "metadata": {
    "collapsed": true
   },
   "outputs": [],
   "source": [
    "plot_image_bokeh(meanI);  # plot_image_mpl(meanI); plt.grid(); plt.show()"
   ]
  },
  {
   "cell_type": "markdown",
   "metadata": {},
   "source": [
    "# Background normalization\n",
    "**Methods**\n",
    "\n",
    "1. subtracing the time averaged image (get rid of static dirt)\n",
    "2. subtract space averaged mean for each image (get rid of changing intensities)\n",
    "3. more sophisticated: [BaSiC](https://github.com/QSCD/BaSiC). Takes care of all at once\n",
    "        A BaSiC Tool for Background and Shading Correction of Optical Microscopy Images\n",
    "        Tingying Peng, Kurt Thorn, Timm Schroeder, Lichao Wang, Fabian J Theis, Carsten Marr, Nassir Navab\n",
    "        Nature Communication 8:14836 (2017)\n",
    "    - $I(x,t) = [B(t) \\cdot I^{true}(x,t)] \\cdot S(x) + D(x)$\n",
    "        - $S(x)$ flatfield, uneven illumination\n",
    "        - $D(x)$ darkfield, camera offset, noise\n",
    "        - $B(t)$ time dependent baseline intensity (i.e. due to photobleaching)\n",
    "        - smoothness constrains on $S(x),D(x)$ (sparse in Fourier space)"
   ]
  },
  {
   "cell_type": "markdown",
   "metadata": {},
   "source": [
    "## subtract the time average"
   ]
  },
  {
   "cell_type": "code",
   "execution_count": null,
   "metadata": {
    "collapsed": true
   },
   "outputs": [],
   "source": [
    "# our test image\n",
    "I0 = movie.loadimage(position=54, timepoint=2850, WL='w00', extension='png', normalizer= imageNormalizer.NoNormalizer())\n",
    "\n",
    "plt.figure(figsize=(20,20))\n",
    "plt.subplot(1,2,1)\n",
    "plt.imshow(I0, cmap=plt.cm.Greys_r)\n",
    "plt.subplot(1,2,2)\n",
    "plt.imshow(I0-meanI, cmap=plt.cm.Greys_r)\n",
    "plt.show()"
   ]
  },
  {
   "cell_type": "markdown",
   "metadata": {},
   "source": [
    "## BaSiC"
   ]
  },
  {
   "cell_type": "code",
   "execution_count": null,
   "metadata": {
    "collapsed": true
   },
   "outputs": [],
   "source": [
    "I0 = movie.loadimage(position=54, timepoint=2850, WL='w00', extension='png', \n",
    "                     normalizer= imageNormalizer.NoNormalizer())\n",
    "\n",
    "I_basic = movie.loadimage(position=54, timepoint=2850, WL='w00', extension='png', \n",
    "                          normalizer= imageNormalizer.BaSiC_Normalizer())\n",
    "\n",
    "plt.figure(figsize=(20,20))\n",
    "plt.subplot(1,2,1)\n",
    "plt.imshow(I0, cmap=plt.cm.Greys_r)\n",
    "plt.subplot(1,2,2)\n",
    "plt.imshow(I_basic, cmap=plt.cm.Greys_r)\n",
    "plt.show()"
   ]
  },
  {
   "cell_type": "markdown",
   "metadata": {},
   "source": [
    "# Compare to the original frames at the top of the notebook"
   ]
  },
  {
   "cell_type": "code",
   "execution_count": null,
   "metadata": {
    "collapsed": true
   },
   "outputs": [],
   "source": [
    "# a couple of consecutive frames\n",
    "tt = range(3430,3450)\n",
    "img_list = [movie.loadimage(position=54, timepoint=i, WL='w00', extension='png', normalizer=imageNormalizer.BaSiC_Normalizer())[:600:2,:600:2]\n",
    "        for i in tt]"
   ]
  },
  {
   "cell_type": "code",
   "execution_count": null,
   "metadata": {
    "collapsed": true
   },
   "outputs": [],
   "source": [
    "%%output size=150\n",
    "%%opts Image style(cmap='Greys_r')\n",
    "hv_plot_stack(img_list, tt)"
   ]
  },
  {
   "cell_type": "markdown",
   "metadata": {},
   "source": [
    "# A larger timeframe"
   ]
  },
  {
   "cell_type": "code",
   "execution_count": null,
   "metadata": {
    "collapsed": true
   },
   "outputs": [],
   "source": [
    "tt = range(2830,3430,20)\n",
    "img_list = [movie.loadimage(position=54, timepoint=i, WL='w00', extension='png', \n",
    "                        normalizer=imageNormalizer.BaSiC_Normalizer())[:600:2,:600:2]\n",
    "        for i in tt]"
   ]
  },
  {
   "cell_type": "code",
   "execution_count": null,
   "metadata": {
    "collapsed": true
   },
   "outputs": [],
   "source": [
    "%%output size=150\n",
    "%%opts Image style(cmap='Greys_r')\n",
    "hv_plot_stack(img_list, tt)"
   ]
  },
  {
   "cell_type": "code",
   "execution_count": null,
   "metadata": {
    "collapsed": true
   },
   "outputs": [],
   "source": []
  }
 ],
 "metadata": {
  "kernelspec": {
   "display_name": "Python 3",
   "language": "python",
   "name": "python3"
  },
  "language_info": {
   "codemirror_mode": {
    "name": "ipython",
    "version": 3
   },
   "file_extension": ".py",
   "mimetype": "text/x-python",
   "name": "python",
   "nbconvert_exporter": "python",
   "pygments_lexer": "ipython3",
   "version": "3.6.2"
  },
  "toc": {
   "toc_cell": false,
   "toc_number_sections": true,
   "toc_threshold": "4",
   "toc_window_display": false
  }
 },
 "nbformat": 4,
 "nbformat_minor": 2
}
