{
 "cells": [
  {
   "cell_type": "code",
   "execution_count": null,
   "metadata": {},
   "outputs": [],
   "source": [
    "import matplotlib.pyplot as plt\n",
    "import numpy as np\n",
    "import holoviews as hv\n",
    "hv.extension('bokeh')\n",
    "import bokeh\n",
    "from bokeh.io import output_notebook, show\n",
    "import bokeh.plotting as bp # figure, show, output_file\n",
    "from talk_plottingutils import *\n",
    "output_notebook()\n",
    "\n",
    "import functools\n",
    "import toolz"
   ]
  },
  {
   "cell_type": "markdown",
   "metadata": {},
   "source": [
    "# Cell fate prediction in hematopoietic stem cells\n",
    "[Prospective identification of hematopoietic lineage choice by deep learning](http://www.nature.com/nmeth/journal/v14/n4/full/nmeth.4182.html)    \n",
    "Felix Buggenthin, Florian Buettner, Philipp S Hoppe, Max Endele, Manuel Kroiss, Michael Strasser, Michael Schwarzfischer, Dirk Loeffler, Konstantinos D Kokkaliaris, Oliver Hilsenbeck, Timm Schroeder, Fabian J Theis, Carsten Marr<p>\n",
    "Nature Methods 14, 403–406 (2017)\n",
    "\n",
    "\n",
    "[Code](https://github.com/QSCD/HematoFatePrediction) \n",
    "\n",
    "## Quick recap:\n",
    "- murine blood stem cells differentiate into distinct cell types\n",
    "\n",
    "\n",
    "<!--![Orkin1](orkin1.png)-->\n",
    "![Orkin2](images/orkin2.png)\n",
    "<img src=\"images/time_lapse_setup.png\" alt=\"time_lapse\" style=\"width: 200px;\"/>\n",
    "\n",
    "- continuous in vitro imaging of this process over several days\n",
    "\n",
    "# Raw data\n",
    "brightfield images\n",
    "\n",
    "<img src=\"images/movie_positions.png\" alt=\"Position layout\" style=\"width: 400px;\"/>\n",
    "<img src=\"images/single_position.png\" alt=\"single position\" style=\"width: 400px;\"/>"
   ]
  },
  {
   "cell_type": "markdown",
   "metadata": {},
   "source": [
    "# Handling the data\n",
    "[movieTools](https://github.com/redst4r/movieTools.git) is a convenient wrapper around the time-lapse data and should already be installed if you followed these [instructions](0_overview.ipynb)."
   ]
  },
  {
   "cell_type": "code",
   "execution_count": null,
   "metadata": {},
   "outputs": [],
   "source": [
    "import movieTools.config\n",
    "import movieTools.imageNormalizer as imageNormalizer\n",
    "from movieTools.movie import Movie\n",
    "movieTools.config.TTTDIR = '/home/michi/pythonProjects/deepLearning/Hemato_korea/data_small/'  # change that to your location!\n",
    "\n",
    "%ls /home/michi/pythonProjects/deepLearning/Hemato_korea/data_small/\n",
    "print(\"\\n---------------\\n\")\n",
    "%ls /home/michi/pythonProjects/deepLearning/Hemato_korea/data_small/experiment3/"
   ]
  },
  {
   "cell_type": "code",
   "execution_count": null,
   "metadata": {},
   "outputs": [],
   "source": [
    "movie = Movie('experiment3', verbose=False)  # 140206\n",
    "\n",
    "print('Positions')\n",
    "print(movie.get_all_positions())\n",
    "\n",
    "print('\\nTimepoints in position 54')\n",
    "print(len(movie.get_timepoints(position=54)))\n",
    "\n",
    "print('\\nTotal number of images')\n",
    "len(movie.get_all_images())  # misnomer here: it returns just a dict of timepoint/position -> filename\n",
    "\n"
   ]
  },
  {
   "cell_type": "markdown",
   "metadata": {},
   "source": [
    "Lets load a single raw image from position 54, timepoint 3330\n",
    "\n",
    "**Note**: The downloaded data contains only timepoints 3300-3399 (usually, 1-5000)"
   ]
  },
  {
   "cell_type": "code",
   "execution_count": null,
   "metadata": {
    "scrolled": false
   },
   "outputs": [],
   "source": [
    "I = movie.loadimage(position=54, \n",
    "                    timepoint=3330, \n",
    "                    WL='w00',        # Brightfield\n",
    "                    extension='png', # for backwards compatibility\n",
    "                    normalizer=imageNormalizer.NoNormalizer())  # just load raw images, no background correction\n",
    "plot_image_bokeh(I);"
   ]
  },
  {
   "cell_type": "markdown",
   "metadata": {},
   "source": [
    "Load all images between t=3330 and t=3350"
   ]
  },
  {
   "cell_type": "code",
   "execution_count": null,
   "metadata": {
    "collapsed": true
   },
   "outputs": [],
   "source": [
    "def load_raw_image(position, timepoint):\n",
    "    \"just to get rid of some of the arguments\"\n",
    "    return movie.loadimage(position, timepoint, WL='w00', extension='png', normalizer=imageNormalizer.NoNormalizer())\n",
    "\n",
    "# For performance reasons (browser related), just save a smaller part of the image at half resolution\n",
    "tt = range(3330,3350)\n",
    "img_list = [load_raw_image(position=54, timepoint=i)[:600:2,:600:2]\n",
    "            for i in tt]"
   ]
  },
  {
   "cell_type": "code",
   "execution_count": null,
   "metadata": {
    "collapsed": true
   },
   "outputs": [],
   "source": [
    "hv_original_stack = hv_plot_stack(img_list, tt)"
   ]
  },
  {
   "cell_type": "code",
   "execution_count": null,
   "metadata": {},
   "outputs": [],
   "source": [
    "%%output size=150\n",
    "%%opts Image style(cmap='Greys_r')\n",
    "hv_original_stack "
   ]
  },
  {
   "cell_type": "markdown",
   "metadata": {},
   "source": [
    "# Observations\n",
    "- uneven illumination, strange flickering\n",
    "- borders of the cover-slip\n",
    "- dirt\n",
    "\n",
    "Lets have a look at this in more detail.\n",
    "\n",
    "**Task 1:**\n",
    "What's the average image intensity over time, i.e. $E_x[I(t,x)]$?"
   ]
  },
  {
   "cell_type": "code",
   "execution_count": null,
   "metadata": {
    "collapsed": true
   },
   "outputs": [],
   "source": [
    "average_intensity_over_time = ..."
   ]
  },
  {
   "cell_type": "markdown",
   "metadata": {},
   "source": [
    "**Solution 1**"
   ]
  },
  {
   "cell_type": "code",
   "execution_count": null,
   "metadata": {
    "collapsed": true
   },
   "outputs": [],
   "source": [
    "%load solutions/bg-01.py"
   ]
  },
  {
   "cell_type": "markdown",
   "metadata": {},
   "source": [
    "plot it"
   ]
  },
  {
   "cell_type": "code",
   "execution_count": null,
   "metadata": {
    "collapsed": true
   },
   "outputs": [],
   "source": [
    "plt.plot(average_intensity_over_time)\n",
    "plt.xlabel('Time')\n",
    "plt.ylabel('avg. intensity')\n",
    "plt.show()"
   ]
  },
  {
   "cell_type": "markdown",
   "metadata": {},
   "source": [
    "**Task 2:** What's the average image $E_t[I(t,x)]$"
   ]
  },
  {
   "cell_type": "code",
   "execution_count": null,
   "metadata": {
    "collapsed": true
   },
   "outputs": [],
   "source": [
    "meanI = ..."
   ]
  },
  {
   "cell_type": "markdown",
   "metadata": {},
   "source": [
    "**Solution 2**"
   ]
  },
  {
   "cell_type": "code",
   "execution_count": null,
   "metadata": {
    "collapsed": true
   },
   "outputs": [],
   "source": [
    "%load solutions/bg-02.py"
   ]
  },
  {
   "cell_type": "markdown",
   "metadata": {},
   "source": [
    "plot it"
   ]
  },
  {
   "cell_type": "code",
   "execution_count": null,
   "metadata": {
    "collapsed": true
   },
   "outputs": [],
   "source": [
    "plot_image_bokeh(meanI);  # plot_image_mpl(meanI); plt.grid(False); plt.show()"
   ]
  },
  {
   "cell_type": "markdown",
   "metadata": {},
   "source": [
    "# Background normalization\n",
    "How do we get rid of these experimental artifacts in the images?\n",
    "\n",
    "**Image equation**:\n",
    "\n",
    "$$I(x,t) = [B(t) \\cdot I^{true}(x,t)] \\cdot S(x) + D(x)$$\n",
    "- $S(x)$ flatfield, uneven illumination\n",
    "- $D(x)$ darkfield, camera offset, noise\n",
    "- $B(t)$ time dependent baseline intensity (i.e. due to photobleaching)\n",
    "\n",
    "**Methods**\n",
    "\n",
    "1. neglect darkfield, estimate $S$, $B$ from the raw data\n",
    "\n",
    "3. more sophisticated: [BaSiC](https://github.com/QSCD/BaSiC). Takes care of all at once, enforcing some more constraints\n"
   ]
  },
  {
   "cell_type": "markdown",
   "metadata": {},
   "source": [
    "## simple normalization:\n",
    "Assume that $S(x)$ is the time average, $B(t)$ is the space average as estimated above\n",
    "\n",
    "**Task 3**: apply this simple normalization to pos=54, time = 3310"
   ]
  },
  {
   "cell_type": "code",
   "execution_count": null,
   "metadata": {
    "collapsed": true
   },
   "outputs": [],
   "source": [
    "Iobs =... #original image\n",
    "Inorm = ...  # normalized"
   ]
  },
  {
   "cell_type": "markdown",
   "metadata": {},
   "source": [
    "**Solution 3**"
   ]
  },
  {
   "cell_type": "code",
   "execution_count": null,
   "metadata": {
    "collapsed": true
   },
   "outputs": [],
   "source": [
    "%load solutions/bg-03.py"
   ]
  },
  {
   "cell_type": "code",
   "execution_count": null,
   "metadata": {
    "collapsed": true
   },
   "outputs": [],
   "source": [
    "plot_image_bokeh(Inorm);"
   ]
  },
  {
   "cell_type": "markdown",
   "metadata": {},
   "source": [
    "## BaSiC\n",
    "\n",
    "    A BaSiC Tool for Background and Shading Correction of Optical Microscopy Images\n",
    "    Tingying Peng, Kurt Thorn, Timm Schroeder, Lichao Wang, Fabian J Theis, Carsten Marr, Nassir Navab\n",
    "    Nature Communication 8:14836 (2017)\n",
    "    \n",
    "    \n",
    "    \n",
    "$$I(x,t) = [B(t) \\cdot I^{true}(x,t)] \\cdot S(x) + D(x)$$\n",
    "- $S(x)$ flatfield, uneven illumination\n",
    "- $D(x)$ darkfield, camera offset, noise\n",
    "- $B(t)$ time dependent baseline intensity (i.e. due to photobleaching)\n",
    "- smoothness constrains on $S(x),D(x)$ (sparse in Fourier space)"
   ]
  },
  {
   "cell_type": "code",
   "execution_count": null,
   "metadata": {
    "collapsed": true
   },
   "outputs": [],
   "source": [
    "I0 = movie.loadimage(position=54, timepoint=3310, WL='w00', extension='png', \n",
    "                     normalizer= imageNormalizer.NoNormalizer())\n",
    "\n",
    "I_basic = movie.loadimage(position=54, timepoint=3310, WL='w00', extension='png', \n",
    "                          normalizer= imageNormalizer.BaSiC_Normalizer())\n",
    "\n",
    "plt.figure(figsize=(20,20))\n",
    "plt.subplot(1,2,1)\n",
    "plt.imshow(I0, cmap=plt.cm.Greys_r)\n",
    "plt.subplot(1,2,2)\n",
    "plt.imshow(I_basic, cmap=plt.cm.Greys_r)\n",
    "plt.show()"
   ]
  },
  {
   "cell_type": "markdown",
   "metadata": {},
   "source": [
    "# Compare to the original frames at the top of the notebook\n",
    "\n",
    "** Normalize the entire stack of images from t=3430-3450**"
   ]
  },
  {
   "cell_type": "code",
   "execution_count": null,
   "metadata": {
    "collapsed": true
   },
   "outputs": [],
   "source": [
    "# a couple of consecutive frames\n",
    "tt = range(3330,3350)\n",
    "img_list_corrected = [movie.loadimage(position=54, timepoint=i, WL='w00', extension='png', \n",
    "                                      normalizer=imageNormalizer.BaSiC_Normalizer())[:600:2,:600:2]\n",
    "        for i in tt]"
   ]
  },
  {
   "cell_type": "code",
   "execution_count": null,
   "metadata": {
    "collapsed": true
   },
   "outputs": [],
   "source": [
    "hv_corrected_stack = hv_plot_stack(img_list_corrected, tt)"
   ]
  },
  {
   "cell_type": "code",
   "execution_count": null,
   "metadata": {
    "collapsed": true
   },
   "outputs": [],
   "source": [
    "%%output size=100\n",
    "%%opts Image style(cmap='Greys_r')\n",
    "hv_original_stack + hv_corrected_stack"
   ]
  },
  {
   "cell_type": "markdown",
   "metadata": {},
   "source": [
    "# A larger timeframe"
   ]
  },
  {
   "cell_type": "code",
   "execution_count": null,
   "metadata": {
    "collapsed": true
   },
   "outputs": [],
   "source": [
    "tt = range(3300,3400, 2)\n",
    "img_list = [movie.loadimage(position=54, timepoint=i, WL='w00', extension='png', \n",
    "                        normalizer=imageNormalizer.BaSiC_Normalizer())[:600:2,:600:2]\n",
    "        for i in tt]"
   ]
  },
  {
   "cell_type": "code",
   "execution_count": null,
   "metadata": {
    "collapsed": true
   },
   "outputs": [],
   "source": [
    "%%output size=150\n",
    "%%opts Image style(cmap='Greys_r')\n",
    "hv_plot_stack(img_list, tt)"
   ]
  },
  {
   "cell_type": "code",
   "execution_count": null,
   "metadata": {
    "collapsed": true
   },
   "outputs": [],
   "source": []
  }
 ],
 "metadata": {
  "kernelspec": {
   "display_name": "Python 3",
   "language": "python",
   "name": "python3"
  },
  "language_info": {
   "codemirror_mode": {
    "name": "ipython",
    "version": 3
   },
   "file_extension": ".py",
   "mimetype": "text/x-python",
   "name": "python",
   "nbconvert_exporter": "python",
   "pygments_lexer": "ipython3",
   "version": "3.6.2"
  },
  "toc": {
   "toc_cell": false,
   "toc_number_sections": true,
   "toc_threshold": "4",
   "toc_window_display": false
  }
 },
 "nbformat": 4,
 "nbformat_minor": 2
}
